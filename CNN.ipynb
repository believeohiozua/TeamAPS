{
  "nbformat": 4,
  "nbformat_minor": 0,
  "metadata": {
    "colab": {
      "name": "CNN.ipynb",
      "version": "0.3.2",
      "provenance": [],
      "include_colab_link": true
    },
    "kernelspec": {
      "name": "python3",
      "display_name": "Python 3"
    },
    "accelerator": "GPU"
  },
  "cells": [
    {
      "cell_type": "markdown",
      "metadata": {
        "id": "view-in-github",
        "colab_type": "text"
      },
      "source": [
        "<a href=\"https://colab.research.google.com/github/believeohiozua/TeamAPS/blob/master/CNN.ipynb\" target=\"_parent\"><img src=\"https://colab.research.google.com/assets/colab-badge.svg\" alt=\"Open In Colab\"/></a>"
      ]
    },
    {
      "metadata": {
        "id": "o4MXSEL_Kv7b",
        "colab_type": "text"
      },
      "cell_type": "markdown",
      "source": [
        "# Fashion-MNIST CNN"
      ]
    },
    {
      "metadata": {
        "id": "E_yIpFI4Kv7e",
        "colab_type": "text"
      },
      "cell_type": "markdown",
      "source": [
        "## Introduction"
      ]
    },
    {
      "metadata": {
        "id": "rpMjWOVOKv7g",
        "colab_type": "text"
      },
      "cell_type": "markdown",
      "source": [
        "#### Dataset Context"
      ]
    },
    {
      "metadata": {
        "id": "Njhm3-UUKv7i",
        "colab_type": "text"
      },
      "cell_type": "markdown",
      "source": [
        "Fashion-MNIST is a dataset of Zalando's article images—consisting of a training set of 60,000 examples and a test set of 10,000 examples. Each example is a 28x28 grayscale image, associated with a label from 10 classes. Zalando intends Fashion-MNIST to serve as a direct drop-in replacement for the original MNIST dataset for benchmarking machine learning algorithms. It shares the same image size and structure of training and testing splits."
      ]
    },
    {
      "metadata": {
        "id": "wFe8oVyrKv7k",
        "colab_type": "text"
      },
      "cell_type": "markdown",
      "source": [
        "#### Dataset Content"
      ]
    },
    {
      "metadata": {
        "id": "wS2k-5EDKv7l",
        "colab_type": "text"
      },
      "cell_type": "markdown",
      "source": [
        "Every row in both the training and test examples represents an image. Each image is 28 pixels in height and 28 pixels in width, for a total of 784 pixels in total. Each pixel has a single pixel-value associated with it, indicating the lightness or darkness of that pixel, with higher numbers meaning darker. This pixel-value is an integer between 0 and 255. The training and test data sets have 785 columns. The first column consists of the class labels (see above), and represents the article of clothing. The rest of the columns contain the pixel-values of the associated image."
      ]
    },
    {
      "metadata": {
        "id": "Rzn55t5AKv7n",
        "colab_type": "text"
      },
      "cell_type": "markdown",
      "source": [
        "#### Labels"
      ]
    },
    {
      "metadata": {
        "id": "ypEnOMu0Kv7p",
        "colab_type": "text"
      },
      "cell_type": "markdown",
      "source": [
        "Each training and test example is assigned to one of the following labels:\n",
        "\n",
        "0. T-shirt/top\n",
        "1. Trouser\n",
        "2. Pullover\n",
        "3. Dress\n",
        "4. Coat\n",
        "5. Sandal\n",
        "6. Shirt\n",
        "7. Sneaker\n",
        "8. Bag\n",
        "9. Ankle boot "
      ]
    },
    {
      "metadata": {
        "id": "XnB69o_KKv7r",
        "colab_type": "text"
      },
      "cell_type": "markdown",
      "source": [
        "#### Goal"
      ]
    },
    {
      "metadata": {
        "id": "TeKpURQCKv7s",
        "colab_type": "text"
      },
      "cell_type": "markdown",
      "source": [
        "We are going to build a CNN using Keras, with TensorFlow backend, that classifies images into the one of categories shown above. We are also going to run through the main concepts of CNN."
      ]
    },
    {
      "metadata": {
        "id": "0AYIeVhxKv7u",
        "colab_type": "text"
      },
      "cell_type": "markdown",
      "source": [
        "## Packages to Install"
      ]
    },
    {
      "metadata": {
        "id": "31tocQ4xKv7w",
        "colab_type": "text"
      },
      "cell_type": "markdown",
      "source": [
        "You will need to install the following, please follow the links:\n",
        "    \n",
        "* [Keras](https://www.pyimagesearch.com/2016/07/18/installing-keras-for-deep-learning/) (you do not need the GPU option)\n",
        "* [OpenCV](https://www.pyimagesearch.com/2018/09/19/pip-install-opencv/) (make sure to install imutils, this is link covers that)\n",
        "* [scikit-learn](https://pypi.org/project/scikit-learn/)\n",
        "* [Matplotlib](https://matplotlib.org/users/installing.html)"
      ]
    },
    {
      "metadata": {
        "id": "bxpcxluhKv7y",
        "colab_type": "text"
      },
      "cell_type": "markdown",
      "source": [
        "## Lets get Started by Importing the Required Packages"
      ]
    },
    {
      "metadata": {
        "id": "0l00OBeOKv70",
        "colab_type": "code",
        "colab": {
          "base_uri": "https://localhost:8080/",
          "height": 34
        },
        "outputId": "e537d6e5-fe7c-444e-d2ce-228e209766d1"
      },
      "cell_type": "code",
      "source": [
        "# set the matplotlib backend so figures can be saved in the background\n",
        "import matplotlib\n",
        "%matplotlib inline\n",
        "import matplotlib.pyplot as plt\n",
        "\n",
        "\n",
        "# import the keras modules\n",
        "from keras.models import Sequential\n",
        "from keras.layers.normalization import BatchNormalization\n",
        "from keras.layers.convolutional import Conv2D\n",
        "from keras.layers.convolutional import MaxPooling2D\n",
        "from keras.layers.core import Activation\n",
        "from keras.layers.core import Flatten\n",
        "from keras.layers.core import Dropout\n",
        "from keras.layers.core import Dense\n",
        "from keras.optimizers import SGD\n",
        "from keras.datasets import fashion_mnist\n",
        "from keras.utils import np_utils\n",
        "from keras import backend as K\n",
        "from sklearn.metrics import classification_report\n",
        "from sklearn.metrics import accuracy_score\n",
        "\n",
        "\n",
        "# othter packages\n",
        "import numpy as np\n",
        "import cv2\n",
        "from imutils import build_montages"
      ],
      "execution_count": 2,
      "outputs": [
        {
          "output_type": "stream",
          "text": [
            "Using TensorFlow backend.\n"
          ],
          "name": "stderr"
        }
      ]
    },
    {
      "metadata": {
        "id": "z_xewsc7Kv7_",
        "colab_type": "text"
      },
      "cell_type": "markdown",
      "source": [
        "## Get the Data"
      ]
    },
    {
      "metadata": {
        "id": "j2AT8m7NKv8B",
        "colab_type": "code",
        "colab": {
          "base_uri": "https://localhost:8080/",
          "height": 153
        },
        "outputId": "54be5206-b53f-4401-90d6-2fc343a79fc3"
      },
      "cell_type": "code",
      "source": [
        "((trainX, trainY), (testX, testY)) = fashion_mnist.load_data()"
      ],
      "execution_count": 3,
      "outputs": [
        {
          "output_type": "stream",
          "text": [
            "Downloading data from http://fashion-mnist.s3-website.eu-central-1.amazonaws.com/train-labels-idx1-ubyte.gz\n",
            "32768/29515 [=================================] - 0s 3us/step\n",
            "Downloading data from http://fashion-mnist.s3-website.eu-central-1.amazonaws.com/train-images-idx3-ubyte.gz\n",
            "26427392/26421880 [==============================] - 2s 0us/step\n",
            "Downloading data from http://fashion-mnist.s3-website.eu-central-1.amazonaws.com/t10k-labels-idx1-ubyte.gz\n",
            "8192/5148 [===============================================] - 0s 0us/step\n",
            "Downloading data from http://fashion-mnist.s3-website.eu-central-1.amazonaws.com/t10k-images-idx3-ubyte.gz\n",
            "4423680/4422102 [==============================] - 1s 0us/step\n"
          ],
          "name": "stdout"
        }
      ]
    },
    {
      "metadata": {
        "id": "M8-wRHJpKv8H",
        "colab_type": "text"
      },
      "cell_type": "markdown",
      "source": [
        "## Resahpe the Training Data"
      ]
    },
    {
      "metadata": {
        "id": "_fPNKnGjKv8I",
        "colab_type": "text"
      },
      "cell_type": "markdown",
      "source": [
        "We have to reshape that it is in the form:\n",
        "    num_samples x depth x rows x columns"
      ]
    },
    {
      "metadata": {
        "id": "q7xVzHw0Kv8K",
        "colab_type": "code",
        "colab": {}
      },
      "cell_type": "code",
      "source": [
        "# set image format to channel first\n",
        "K.set_image_data_format('channels_first')\n",
        "\n",
        "# reshape data\n",
        "trainX = trainX.reshape((trainX.shape[0], 1, 28, 28))\n",
        "testX = testX.reshape((testX.shape[0], 1, 28, 28))"
      ],
      "execution_count": 0,
      "outputs": []
    },
    {
      "metadata": {
        "id": "DCDH9K-cKv8Q",
        "colab_type": "text"
      },
      "cell_type": "markdown",
      "source": [
        "## Scale the Training Data"
      ]
    },
    {
      "metadata": {
        "id": "vcj-hpmuKv8S",
        "colab_type": "text"
      },
      "cell_type": "markdown",
      "source": [
        "The maximum value a pixel can take on is 255, therefore to scale the pixels all we have to do is divide each one by 255. "
      ]
    },
    {
      "metadata": {
        "id": "X4i9kYWPKv8U",
        "colab_type": "code",
        "colab": {}
      },
      "cell_type": "code",
      "source": [
        "# scale data to the range of [0, 1]\n",
        "trainX = trainX.astype(\"float32\") / 255.0\n",
        "testX = testX.astype(\"float32\") / 255.0"
      ],
      "execution_count": 0,
      "outputs": []
    },
    {
      "metadata": {
        "id": "LhHQF1VwKv8a",
        "colab_type": "text"
      },
      "cell_type": "markdown",
      "source": [
        "## Reshape the Targets"
      ]
    },
    {
      "metadata": {
        "id": "sEFZ-tGXKv8c",
        "colab_type": "text"
      },
      "cell_type": "markdown",
      "source": [
        "We need to one-hot-encode the target variable. If you would like to read more about one-hot-encoding follow [this](https://hackernoon.com/what-is-one-hot-encoding-why-and-when-do-you-have-to-use-it-e3c6186d008f) link. "
      ]
    },
    {
      "metadata": {
        "id": "0HcDeUaJKv8d",
        "colab_type": "code",
        "colab": {}
      },
      "cell_type": "code",
      "source": [
        "trainY = np_utils.to_categorical(trainY, 10)\n",
        "testY = np_utils.to_categorical(testY, 10)"
      ],
      "execution_count": 0,
      "outputs": []
    },
    {
      "metadata": {
        "id": "J8MufmdaKv8i",
        "colab_type": "code",
        "colab": {}
      },
      "cell_type": "code",
      "source": [
        "# initialize the label names (the actual written names)\n",
        "labelNames = [\"top\", \"trouser\", \"pullover\", \"dress\", \"coat\",\"sandal\", \"shirt\", \"sneaker\", \"bag\", \"ankle boot\"]"
      ],
      "execution_count": 0,
      "outputs": []
    },
    {
      "metadata": {
        "id": "lCn23KCYKv8n",
        "colab_type": "text"
      },
      "cell_type": "markdown",
      "source": [
        "## Now We Are Ready to Build Our Model"
      ]
    },
    {
      "metadata": {
        "id": "vWf5z0PeKv8p",
        "colab_type": "text"
      },
      "cell_type": "markdown",
      "source": [
        "We are first going to initialise all the tuning parameters we are going to use.\n",
        "\n",
        "[This](https://www.analyticsvidhya.com/blog/2017/05/25-must-know-terms-concepts-for-beginners-in-deep-learning/) link from the summary slide explains what each parameter. "
      ]
    },
    {
      "metadata": {
        "id": "NDVJ-r1dKv8q",
        "colab_type": "text"
      },
      "cell_type": "markdown",
      "source": [
        "#### Initialise tuning parameters"
      ]
    },
    {
      "metadata": {
        "id": "NpRgOL2_Kv8s",
        "colab_type": "code",
        "colab": {}
      },
      "cell_type": "code",
      "source": [
        "# number of epochs\n",
        "NUM_EPOCHS = 10\n",
        "# learning rate\n",
        "INIT_LR = 1e-2\n",
        "# batch size\n",
        "BS = 32\n",
        "# momentum\n",
        "MOM = 0.9"
      ],
      "execution_count": 0,
      "outputs": []
    },
    {
      "metadata": {
        "id": "IzsW4CI-Kv8x",
        "colab_type": "text"
      },
      "cell_type": "markdown",
      "source": [
        "#### Initialise the Model Optimizer"
      ]
    },
    {
      "metadata": {
        "id": "YWiHRMbMKv8y",
        "colab_type": "code",
        "colab": {
          "base_uri": "https://localhost:8080/",
          "height": 88
        },
        "outputId": "09961721-550b-4d21-b7ae-53518a688600"
      },
      "cell_type": "code",
      "source": [
        "# we are going to use stochastic gradient descent as our optimizer\n",
        "opt = SGD(lr=INIT_LR, momentum=MOM, decay=INIT_LR / NUM_EPOCHS)"
      ],
      "execution_count": 9,
      "outputs": [
        {
          "output_type": "stream",
          "text": [
            "WARNING:tensorflow:From /usr/local/lib/python3.6/dist-packages/tensorflow/python/framework/op_def_library.py:263: colocate_with (from tensorflow.python.framework.ops) is deprecated and will be removed in a future version.\n",
            "Instructions for updating:\n",
            "Colocations handled automatically by placer.\n"
          ],
          "name": "stdout"
        }
      ]
    },
    {
      "metadata": {
        "id": "x5ZhbV79Kv88",
        "colab_type": "text"
      },
      "cell_type": "markdown",
      "source": [
        "#### Initialise Model "
      ]
    },
    {
      "metadata": {
        "id": "TE9SM5PIKv89",
        "colab_type": "code",
        "colab": {}
      },
      "cell_type": "code",
      "source": [
        "# we are using a sequential learning model\n",
        "model = Sequential()\n",
        "# our input shape is depth, height, width (in our case 1 sample x 28 pixels x 28 pixels)\n",
        "inputShape = (1, 28, 28)"
      ],
      "execution_count": 0,
      "outputs": []
    },
    {
      "metadata": {
        "id": "8t66WpIQKv9C",
        "colab_type": "text"
      },
      "cell_type": "markdown",
      "source": [
        "## Model Architecture"
      ]
    },
    {
      "metadata": {
        "id": "woQSEI_uKv9E",
        "colab_type": "text"
      },
      "cell_type": "markdown",
      "source": [
        "We are going to use an architecture that consists of 2 overall convolutions (including pooling) and 1 flattening layer. Finally we use a softmax classifier for the output layer as this is a multi-class classification problem. "
      ]
    },
    {
      "metadata": {
        "id": "i3pOfn_3Kv9N",
        "colab_type": "code",
        "colab": {
          "base_uri": "https://localhost:8080/",
          "height": 88
        },
        "outputId": "a8ab5c4a-1718-418e-81dc-5fc2841a56c5"
      },
      "cell_type": "code",
      "source": [
        "# first CONV => RELU => CONV => RELU => POOL layer set\n",
        "model.add(Conv2D(32, (3, 3), padding=\"same\", input_shape=inputShape))\n",
        "model.add(Activation(\"relu\"))\n",
        "model.add(BatchNormalization(axis=-1))\n",
        "model.add(Conv2D(32, (3, 3), padding=\"same\"))\n",
        "model.add(Activation(\"relu\"))\n",
        "model.add(BatchNormalization(axis=-1))\n",
        "model.add(MaxPooling2D(pool_size=(2, 2)))\n",
        "model.add(Dropout(0.25))\n",
        "\n",
        "# second CONV => RELU => CONV => RELU => POOL layer set\n",
        "model.add(Conv2D(64, (3, 3), padding=\"same\"))\n",
        "model.add(Activation(\"relu\"))\n",
        "model.add(BatchNormalization(axis=-1))\n",
        "model.add(Conv2D(64, (3, 3), padding=\"same\"))\n",
        "model.add(Activation(\"relu\"))\n",
        "model.add(BatchNormalization(axis=-1))\n",
        "model.add(MaxPooling2D(pool_size=(2, 2)))\n",
        "model.add(Dropout(0.25))\n",
        "\n",
        "# first (and only) set of FC => RELU layers\n",
        "model.add(Flatten())\n",
        "model.add(Dense(512))\n",
        "model.add(Activation(\"relu\"))\n",
        "model.add(BatchNormalization())\n",
        "model.add(Dropout(0.5))\n",
        "\n",
        "# softmax classifier\n",
        "model.add(Dense(10))\n",
        "model.add(Activation(\"softmax\"))\n",
        "\n",
        "model.compile(loss=\"categorical_crossentropy\", optimizer=opt, metrics=[\"accuracy\"])"
      ],
      "execution_count": 11,
      "outputs": [
        {
          "output_type": "stream",
          "text": [
            "WARNING:tensorflow:From /usr/local/lib/python3.6/dist-packages/keras/backend/tensorflow_backend.py:3445: calling dropout (from tensorflow.python.ops.nn_ops) with keep_prob is deprecated and will be removed in a future version.\n",
            "Instructions for updating:\n",
            "Please use `rate` instead of `keep_prob`. Rate should be set to `rate = 1 - keep_prob`.\n"
          ],
          "name": "stdout"
        }
      ]
    },
    {
      "metadata": {
        "id": "-NhNnQV3Kv9W",
        "colab_type": "text"
      },
      "cell_type": "markdown",
      "source": [
        "When you can please draw out this architecture and make sure you have a good understadning of what is going on. "
      ]
    },
    {
      "metadata": {
        "id": "KTd2DghTKv9X",
        "colab_type": "text"
      },
      "cell_type": "markdown",
      "source": [
        "## Train our Model"
      ]
    },
    {
      "metadata": {
        "id": "0VmoKjnWKv9Z",
        "colab_type": "text"
      },
      "cell_type": "markdown",
      "source": [
        "Using only the training data we are going to train our CCN model. This will take quite a while, so be patient! \n",
        "\n",
        "Take note of how the training accuracy increases with every epoch and the loss decreases with every epoch. "
      ]
    },
    {
      "metadata": {
        "id": "eT2wv6UiKv9a",
        "colab_type": "code",
        "colab": {
          "base_uri": "https://localhost:8080/",
          "height": 853
        },
        "outputId": "ef5d79be-97fb-4f36-e2a1-0750bf3d4d17"
      },
      "cell_type": "code",
      "source": [
        "H = model.fit(trainX, trainY, validation_data=(testX, testY), batch_size=BS, epochs=NUM_EPOCHS)"
      ],
      "execution_count": 12,
      "outputs": [
        {
          "output_type": "stream",
          "text": [
            "WARNING:tensorflow:From /usr/local/lib/python3.6/dist-packages/tensorflow/python/ops/math_ops.py:3066: to_int32 (from tensorflow.python.ops.math_ops) is deprecated and will be removed in a future version.\n",
            "Instructions for updating:\n",
            "Use tf.cast instead.\n",
            "Train on 60000 samples, validate on 10000 samples\n",
            "Epoch 1/10\n",
            "60000/60000 [==============================] - 34s 564us/step - loss: 0.7652 - acc: 0.7318 - val_loss: 0.4538 - val_acc: 0.8334\n",
            "Epoch 2/10\n",
            "60000/60000 [==============================] - 30s 494us/step - loss: 0.4844 - acc: 0.8251 - val_loss: 0.3786 - val_acc: 0.8594\n",
            "Epoch 3/10\n",
            "60000/60000 [==============================] - 30s 493us/step - loss: 0.4042 - acc: 0.8535 - val_loss: 0.3317 - val_acc: 0.8765\n",
            "Epoch 4/10\n",
            "60000/60000 [==============================] - 29s 491us/step - loss: 0.3640 - acc: 0.8671 - val_loss: 0.3099 - val_acc: 0.8851\n",
            "Epoch 5/10\n",
            "60000/60000 [==============================] - 29s 491us/step - loss: 0.3353 - acc: 0.8769 - val_loss: 0.2897 - val_acc: 0.8912\n",
            "Epoch 6/10\n",
            "60000/60000 [==============================] - 29s 490us/step - loss: 0.3164 - acc: 0.8849 - val_loss: 0.2782 - val_acc: 0.8968\n",
            "Epoch 7/10\n",
            "60000/60000 [==============================] - 29s 490us/step - loss: 0.3038 - acc: 0.8888 - val_loss: 0.2719 - val_acc: 0.8978\n",
            "Epoch 8/10\n",
            "60000/60000 [==============================] - 29s 491us/step - loss: 0.2954 - acc: 0.8932 - val_loss: 0.2587 - val_acc: 0.9034\n",
            "Epoch 9/10\n",
            "60000/60000 [==============================] - 29s 489us/step - loss: 0.2853 - acc: 0.8959 - val_loss: 0.2604 - val_acc: 0.9047\n",
            "Epoch 10/10\n",
            "60000/60000 [==============================] - 29s 488us/step - loss: 0.2798 - acc: 0.8979 - val_loss: 0.2505 - val_acc: 0.9081\n",
            "WARNING:tensorflow:From /usr/local/lib/python3.6/dist-packages/tensorflow/python/ops/math_ops.py:3066: to_int32 (from tensorflow.python.ops.math_ops) is deprecated and will be removed in a future version.\n",
            "Instructions for updating:\n",
            "Use tf.cast instead.\n",
            "Train on 60000 samples, validate on 10000 samples\n",
            "Epoch 1/10\n",
            "60000/60000 [==============================] - 34s 564us/step - loss: 0.7652 - acc: 0.7318 - val_loss: 0.4538 - val_acc: 0.8334\n",
            "Epoch 2/10\n",
            "60000/60000 [==============================] - 30s 494us/step - loss: 0.4844 - acc: 0.8251 - val_loss: 0.3786 - val_acc: 0.8594\n",
            "Epoch 3/10\n",
            "60000/60000 [==============================] - 30s 493us/step - loss: 0.4042 - acc: 0.8535 - val_loss: 0.3317 - val_acc: 0.8765\n",
            "Epoch 4/10\n",
            "60000/60000 [==============================] - 29s 491us/step - loss: 0.3640 - acc: 0.8671 - val_loss: 0.3099 - val_acc: 0.8851\n",
            "Epoch 5/10\n",
            "60000/60000 [==============================] - 29s 491us/step - loss: 0.3353 - acc: 0.8769 - val_loss: 0.2897 - val_acc: 0.8912\n",
            "Epoch 6/10\n",
            "60000/60000 [==============================] - 29s 490us/step - loss: 0.3164 - acc: 0.8849 - val_loss: 0.2782 - val_acc: 0.8968\n",
            "Epoch 7/10\n",
            "60000/60000 [==============================] - 29s 490us/step - loss: 0.3038 - acc: 0.8888 - val_loss: 0.2719 - val_acc: 0.8978\n",
            "Epoch 8/10\n",
            "60000/60000 [==============================] - 29s 491us/step - loss: 0.2954 - acc: 0.8932 - val_loss: 0.2587 - val_acc: 0.9034\n",
            "Epoch 9/10\n",
            "60000/60000 [==============================] - 29s 489us/step - loss: 0.2853 - acc: 0.8959 - val_loss: 0.2604 - val_acc: 0.9047\n",
            "Epoch 10/10\n",
            "60000/60000 [==============================] - 29s 488us/step - loss: 0.2798 - acc: 0.8979 - val_loss: 0.2505 - val_acc: 0.9081\n"
          ],
          "name": "stdout"
        }
      ]
    },
    {
      "metadata": {
        "id": "b26T9F65Kv9f",
        "colab_type": "text"
      },
      "cell_type": "markdown",
      "source": [
        "## Get our Test Predictions"
      ]
    },
    {
      "metadata": {
        "id": "MJUWRR7YKv9h",
        "colab_type": "code",
        "colab": {}
      },
      "cell_type": "code",
      "source": [
        "# make predictions on the test set\n",
        "preds = model.predict(testX)"
      ],
      "execution_count": 0,
      "outputs": []
    },
    {
      "metadata": {
        "id": "DcZiuMV1Kv9l",
        "colab_type": "text"
      },
      "cell_type": "markdown",
      "source": [
        "## Compare our Test Predicitons with the Atcual Test Data Values"
      ]
    },
    {
      "metadata": {
        "id": "7FiE1f4iKv9m",
        "colab_type": "code",
        "colab": {
          "base_uri": "https://localhost:8080/",
          "height": 34
        },
        "outputId": "49741088-db7f-4e85-b8a0-28db0aa679a0"
      },
      "cell_type": "code",
      "source": [
        "print(accuracy_score(testY.argmax(axis=1), preds.argmax(axis=1)))"
      ],
      "execution_count": 19,
      "outputs": [
        {
          "output_type": "stream",
          "text": [
            "0.9081\n"
          ],
          "name": "stdout"
        }
      ]
    },
    {
      "metadata": {
        "id": "HNYyhKPoKv9r",
        "colab_type": "text"
      },
      "cell_type": "markdown",
      "source": [
        "The code above shows us that we had an overall test accuray of 90.91%. Which is very good. But lets take a closer looks at the models performance accross each class. "
      ]
    },
    {
      "metadata": {
        "id": "Nfs9RiVUKv9s",
        "colab_type": "code",
        "colab": {
          "base_uri": "https://localhost:8080/",
          "height": 306
        },
        "outputId": "82bb0649-0590-4a70-bf5b-067bc7204850"
      },
      "cell_type": "code",
      "source": [
        "print(classification_report(testY.argmax(axis=1), preds.argmax(axis=1), target_names=labelNames))"
      ],
      "execution_count": 21,
      "outputs": [
        {
          "output_type": "stream",
          "text": [
            "              precision    recall  f1-score   support\n",
            "\n",
            "         top       0.86      0.86      0.86      1000\n",
            "     trouser       0.99      0.98      0.99      1000\n",
            "    pullover       0.86      0.86      0.86      1000\n",
            "       dress       0.90      0.92      0.91      1000\n",
            "        coat       0.85      0.82      0.84      1000\n",
            "      sandal       0.98      0.98      0.98      1000\n",
            "       shirt       0.73      0.75      0.74      1000\n",
            "     sneaker       0.95      0.98      0.96      1000\n",
            "         bag       0.99      0.98      0.98      1000\n",
            "  ankle boot       0.98      0.96      0.97      1000\n",
            "\n",
            "   micro avg       0.91      0.91      0.91     10000\n",
            "   macro avg       0.91      0.91      0.91     10000\n",
            "weighted avg       0.91      0.91      0.91     10000\n",
            "\n"
          ],
          "name": "stdout"
        }
      ]
    },
    {
      "metadata": {
        "id": "jIZrfr8AKv90",
        "colab_type": "text"
      },
      "cell_type": "markdown",
      "source": [
        "We can see from above that the model was excellent at classifying almost every class. Every class other than shirts had an f1-score higher than 86%.\n",
        "\n",
        "[This](https://scikit-learn.org/stable/modules/generated/sklearn.metrics.precision_recall_fscore_support.html) link explains precision, recall, and f1-scores. \n",
        "\n",
        "However, the table does indicate that the model performed very well. Even a 0.74 f1-score for shirts is a decent result. "
      ]
    },
    {
      "metadata": {
        "id": "PKoCsjR3Kv92",
        "colab_type": "text"
      },
      "cell_type": "markdown",
      "source": [
        "## Plot the  Loss and Accuracy per Epoch"
      ]
    },
    {
      "metadata": {
        "id": "Phaj8rsOKv93",
        "colab_type": "code",
        "colab": {
          "base_uri": "https://localhost:8080/",
          "height": 315
        },
        "outputId": "57de14f6-9528-441c-e11c-983f4873bf48"
      },
      "cell_type": "code",
      "source": [
        "# plot the training loss and accuracy\n",
        "N = NUM_EPOCHS\n",
        "plt.style.use(\"ggplot\")\n",
        "plt.figure()\n",
        "plt.plot(np.arange(0, N), H.history[\"loss\"], label=\"train_loss\")\n",
        "plt.plot(np.arange(0, N), H.history[\"val_loss\"], label=\"val_loss\")\n",
        "plt.plot(np.arange(0, N), H.history[\"acc\"], label=\"train_acc\")\n",
        "plt.plot(np.arange(0, N), H.history[\"val_acc\"], label=\"val_acc\")\n",
        "plt.title(\"Training Loss and Accuracy on Dataset\")\n",
        "plt.xlabel(\"Epoch #\")\n",
        "plt.ylabel(\"Loss/Accuracy\")\n",
        "plt.legend(loc=\"lower left\")"
      ],
      "execution_count": 22,
      "outputs": [
        {
          "output_type": "execute_result",
          "data": {
            "text/plain": [
              "<matplotlib.legend.Legend at 0x7fe5c20a9198>"
            ]
          },
          "metadata": {
            "tags": []
          },
          "execution_count": 22
        },
        {
          "output_type": "display_data",
          "data": {
            "image/png": "[encoded data removed]",
            "text/plain": [
              "<Figure size 432x288 with 1 Axes>"
            ]
          },
          "metadata": {
            "tags": []
          }
        }
      ]
    },
    {
      "metadata": {
        "id": "j3RQD_qMKv-A",
        "colab_type": "text"
      },
      "cell_type": "markdown",
      "source": [
        "The above shows as the number of epochs increases, the training accuracy, and the loss decreases. This is because with every epoch the weights and biases in the model are adjusted to better the accuracy. This is the sole aim of the model. \n",
        "\n",
        "It is key to note that training accuracy can be misleading. If a model's training accuracy is much higher its testing accuracy then the model was overfitted to the training data. \n",
        "\n",
        "In our case, we can see that our final training accuracy was 0.8968 and the testing accuracy was 0.9091. That indicates that model was not overfit to our training data!"
      ]
    },
    {
      "metadata": {
        "id": "QQgUhKlHKv-B",
        "colab_type": "text"
      },
      "cell_type": "markdown",
      "source": [
        "## End of Tutorial"
      ]
    },
    {
      "metadata": {
        "id": "gSi9AiJ2Kv-D",
        "colab_type": "text"
      },
      "cell_type": "markdown",
      "source": [
        "We have successfully built a CNN!\n",
        "\n",
        "Please play around with the architecture of the model and see if you can increase the overall test accuracy of the model. You should further edit the tuning parameters and test the effects of editing each one. \n",
        "\n",
        "Once finished, you can go back to week 6's slides to find out about next week. "
      ]
    }
  ]
}